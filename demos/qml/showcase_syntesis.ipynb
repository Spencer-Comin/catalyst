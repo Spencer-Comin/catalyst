{
 "cells": [
  {
   "cell_type": "markdown",
   "id": "788ab69c",
   "metadata": {},
   "source": [
    "This notebook contains an early presentation of [Program synthesis draft PR](https://github.com/XanaduAI/pennylane-mlir/pull/343) "
   ]
  },
  {
   "cell_type": "markdown",
   "id": "6bdb1f6e",
   "metadata": {},
   "source": [
    "Overview\n",
    "-------\n",
    "\n",
    "The sub-project currenntly contains three Python modules, defining a grammar of an imperative language, the pretty-prining code and an expression build tracker (see below).\n"
   ]
  },
  {
   "cell_type": "code",
   "execution_count": 1,
   "id": "977a18b0",
   "metadata": {},
   "outputs": [],
   "source": [
    "from catalyst.synthesis import *"
   ]
  },
  {
   "cell_type": "markdown",
   "id": "8854eb0e",
   "metadata": {},
   "source": [
    "Grammar\n",
    "----------\n",
    "\n",
    "Located at [synthesis.grammar](https://github.com/XanaduAI/pennylane-mlir/blob/progam_synthesis/frontend/catalyst/synthesis/grammar.py#L1)\n",
    "The definitions specify a simple untyped imperative language with quantum specific in mind:\n",
    "* Function declarations can specify number of quantum wires or the name of quantum device\n",
    "* Control flow statements have `style` field, which could be set to `Python`, `Catalyst` or `JAX` (the printer only supports the `Python` style right now)\n",
    "\n",
    "Some example definitions:"
   ]
  },
  {
   "cell_type": "code",
   "execution_count": 2,
   "id": "589f7c52",
   "metadata": {},
   "outputs": [
    {
     "name": "stdout",
     "output_type": "stream",
     "text": [
      "AssignStmt(vname=VName(val='var'), expr=FCallExpr(fname=FName(val='func'), args=[VRefExpr(vname=VName(val='a'))]))\n"
     ]
    }
   ],
   "source": [
    "asgn = AssignStmt(VName(\"var\"), FCallExpr(FName(\"func\"), [VRefExpr(VName(\"a\"))]))\n",
    "print(asgn)"
   ]
  },
  {
   "cell_type": "code",
   "execution_count": 3,
   "id": "eb041e00",
   "metadata": {},
   "outputs": [
    {
     "name": "stdout",
     "output_type": "stream",
     "text": [
      "ForLoopStmt(loopvar=VName(val='i'), lbound=ConstExpr(val=0), ubound=ConstExpr(val=100), body=POIStmt(stmts=[AssignStmt(vname=VName(val='var'), expr=FCallExpr(fname=FName(val='func'), args=[VRefExpr(vname=VName(val='a'))]))]), style=<ControlFlowStyle.Python: 0>)\n"
     ]
    }
   ],
   "source": [
    "loop = ForLoopStmt(VName('i'),\n",
    "                   ConstExpr(0),\n",
    "                   ConstExpr(100),\n",
    "                   POIStmt([asgn]), ControlFlowStyle.Python)\n",
    "print(loop)"
   ]
  },
  {
   "cell_type": "code",
   "execution_count": 4,
   "id": "cdfa68da",
   "metadata": {},
   "outputs": [
    {
     "name": "stdout",
     "output_type": "stream",
     "text": [
      "FDefStmt(fname=FName(val='main'), args=[VName(val='a'), VName(val='b')], body=POIStmt(stmts=[ForLoopStmt(loopvar=VName(val='i'), lbound=ConstExpr(val=0), ubound=ConstExpr(val=100), body=POIStmt(stmts=[AssignStmt(vname=VName(val='var'), expr=FCallExpr(fname=FName(val='func'), args=[VRefExpr(vname=VName(val='a'))]))]), style=<ControlFlowStyle.Python: 0>)]), qwires=2, qdevice=None)\n"
     ]
    }
   ],
   "source": [
    "fndef = FDefStmt(FName(\"main\"),\n",
    "                 [VName(\"a\"),VName(\"b\")],\n",
    "                 POIStmt([loop]),\n",
    "                 qwires=2)\n",
    "print(fndef)"
   ]
  },
  {
   "cell_type": "markdown",
   "id": "251b1e88",
   "metadata": {},
   "source": [
    "Pretty Printer\n",
    "--------------\n",
    "\n",
    "The pretty printer essentially provides a collection of `pstr_*` and the `pprint` top-level functions. The latter knows how to print any grammar. "
   ]
  },
  {
   "cell_type": "code",
   "execution_count": 5,
   "id": "03bd57c8",
   "metadata": {},
   "outputs": [
    {
     "name": "stdout",
     "output_type": "stream",
     "text": [
      "var = func(a)\n"
     ]
    }
   ],
   "source": [
    "pprint(asgn)"
   ]
  },
  {
   "cell_type": "code",
   "execution_count": 6,
   "id": "5e7f8dd2",
   "metadata": {},
   "outputs": [
    {
     "name": "stdout",
     "output_type": "stream",
     "text": [
      "for i in range(int(0), int(100)):\n",
      "    var = func(a)\n"
     ]
    }
   ],
   "source": [
    "pprint(loop)"
   ]
  },
  {
   "cell_type": "code",
   "execution_count": 7,
   "id": "4c04b898",
   "metadata": {},
   "outputs": [
    {
     "name": "stdout",
     "output_type": "stream",
     "text": [
      "@qml.qnode(qml.device(\"catalyst-lightning\", wires=2))\n",
      "def main(a, b):\n",
      "    for i in range(int(0), int(100)):\n",
      "        var = func(a)\n"
     ]
    }
   ],
   "source": [
    "pprint(fndef)"
   ]
  },
  {
   "cell_type": "markdown",
   "id": "07717871",
   "metadata": {},
   "source": [
    "Expression Build Tracker\n",
    "-------------------------\n",
    "\n",
    "While the modules described above already provide basic tools for building random programs, we also define an build helper which does the following\n",
    "* Maintains the set of availabe \"Points of Insertion\".\n",
    "* For each Point of Insertion, tracks the context which currently includes the following information:\n",
    "  - What variables are visible from this POI.\n",
    "  - For quantum functions, how many wires did we declare.\n",
    "  \n",
    "Essentially, the idea of Tracker is to separate certain stateful parts from the rest of the program generation logic, allowing stateless algorithms. \n",
    "\n",
    "Any expression could be loaded into the Tracker and benefit from its interface"
   ]
  },
  {
   "cell_type": "code",
   "execution_count": 8,
   "id": "4030d450",
   "metadata": {},
   "outputs": [
    {
     "name": "stdout",
     "output_type": "stream",
     "text": [
      "2\n"
     ]
    }
   ],
   "source": [
    "t = track(fndef)\n",
    "\n",
    "print(len(t.pois))"
   ]
  },
  {
   "cell_type": "markdown",
   "id": "a960fbb9",
   "metadata": {},
   "source": [
    "Pretty-printer is avare of Trackers. By default, it includes the information about the active points of insertions."
   ]
  },
  {
   "cell_type": "code",
   "execution_count": 9,
   "id": "f5730883",
   "metadata": {},
   "outputs": [
    {
     "name": "stdout",
     "output_type": "stream",
     "text": [
      "@qml.qnode(qml.device(\"catalyst-lightning\", wires=2))\n",
      "def main(a, b):\n",
      "    for i in range(int(0), int(100)):\n",
      "        var = func(a)\n",
      "        # poi 140678570068192\n",
      "        # a, b, i, var\n",
      "    # poi 140678570081776\n",
      "    # a, b\n"
     ]
    }
   ],
   "source": [
    "pprint(t)"
   ]
  },
  {
   "cell_type": "markdown",
   "id": "13b146fc",
   "metadata": {},
   "source": [
    "Below we create a conditional statement and include it into the first point of insertion"
   ]
  },
  {
   "cell_type": "code",
   "execution_count": 10,
   "id": "0d849a10",
   "metadata": {},
   "outputs": [
    {
     "name": "stdout",
     "output_type": "stream",
     "text": [
      "#POIs after inserting cond is 4\n",
      "@qml.qnode(qml.device(\"catalyst-lightning\", wires=2))\n",
      "def main(a, b):\n",
      "    for i in range(int(0), int(100)):\n",
      "        var = func(a)\n",
      "        # poi 140678570068192\n",
      "        # a, b, i, var\n",
      "    if bool(True) then:\n",
      "        pass\n",
      "        # poi 140678570069488\n",
      "        # a, b\n",
      "    else:\n",
      "        var = func(a)\n",
      "        # poi 140678570070640\n",
      "        # a, b, var\n",
      "    # poi 140678570081776\n",
      "    # a, b\n"
     ]
    }
   ],
   "source": [
    "cond = CondStmt(trueExpr, POIStmt(),POIStmt(), ControlFlowStyle.Python)\n",
    "t.insert_statement(1,cond)\n",
    "print(f\"#POIs after inserting cond is {len(t.pois)}\")\n",
    "t.insert_statement(3,asgn)\n",
    "pprint(t)"
   ]
  },
  {
   "cell_type": "markdown",
   "id": "17e87717",
   "metadata": {},
   "source": [
    "Conclusion\n",
    "------\n",
    "\n",
    "Later plans include:\n",
    "\n",
    "* Completig the Catalyst-version of the control flow pretty-printing\n",
    "* Writing a parametrized random `FCallExpr` generator for PennyLane gate calls.\n",
    "* Implementing a couple of generator algorithms which would:\n",
    "  - Keep track of some kind of budget to spend on certain operations.\n",
    "  - Make use of the above Tracker API to spend their budget to filling the function body.\n",
    "  "
   ]
  }
 ],
 "metadata": {
  "kernelspec": {
   "display_name": "Python 3 (ipykernel)",
   "language": "python",
   "name": "python3"
  },
  "language_info": {
   "codemirror_mode": {
    "name": "ipython",
    "version": 3
   },
   "file_extension": ".py",
   "mimetype": "text/x-python",
   "name": "python",
   "nbconvert_exporter": "python",
   "pygments_lexer": "ipython3",
   "version": "3.10.6"
  }
 },
 "nbformat": 4,
 "nbformat_minor": 5
}
